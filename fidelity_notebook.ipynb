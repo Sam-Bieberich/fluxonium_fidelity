{
 "cells": [
  {
   "cell_type": "markdown",
   "id": "9b912be0",
   "metadata": {},
   "source": [
    "# Part 1: Gate Fidelity Computation"
   ]
  },
  {
   "cell_type": "code",
   "execution_count": null,
   "id": "bfe6d8a1",
   "metadata": {},
   "outputs": [],
   "source": [
    "# Make sure that the installations in env.yaml are correct\n",
    "\n",
    "import qutip as qt\n",
    "import scqubits as scq\n",
    "import numpy as np\n",
    "import matplotlib.pyplot as plt\n",
    "from tqdm import tqdm\n",
    "import itertools\n",
    "import os\n",
    "from pathos.multiprocessing import ProcessingPool as Pool\n",
    "import warnings"
   ]
  },
  {
   "cell_type": "markdown",
   "id": "d9be2818",
   "metadata": {},
   "source": [
    "Define the Fluxonium Qubit"
   ]
  },
  {
   "cell_type": "code",
   "execution_count": null,
   "id": "125a086c",
   "metadata": {},
   "outputs": [],
   "source": [
    "fluxonium = scq.Fluxonium(EJ = 8.9,\n",
    "                               EC = 2.5,\n",
    "                               EL = 0.5,\n",
    "                               flux = 0.48,\n",
    "                               cutoff = 110)\n",
    "\n",
    "levels = 6 # can be changed to include more or less energy levels \n",
    "\n",
    "evals, evecs = fluxonium.eigensys(evals_count=levels)\n",
    "\n",
    "n_op_energy_basis = qt.Qobj(fluxonium.process_op(fluxonium.n_operator(), energy_esys=(evals, evecs)))\n",
    "\n",
    "H0 = qt.Qobj(np.diag(evals)) * 2 * np.pi  # in GHz\n",
    "\n",
    "A = 0.4 * 2 * np.pi  # drive amplitude in GHz\n",
    "drive_op = n_op_energy_basis\n",
    "\n",
    "omega_d = (evals[1] - evals[0]) * 2 * np.pi  # resonant drive frequency in GHz\n",
    "\n",
    "H = [H0, [A * drive_op, 'cos(wd * t)']]\n",
    "args = {'wd': omega_d}\n",
    "\n",
    "#drive_op"
   ]
  },
  {
   "cell_type": "code",
   "execution_count": null,
   "id": "c97c2109",
   "metadata": {},
   "outputs": [],
   "source": [
    "print(\"drive_op is Hermitian:\", drive_op.isherm)"
   ]
  },
  {
   "cell_type": "code",
   "execution_count": null,
   "id": "fa6c2099",
   "metadata": {},
   "outputs": [],
   "source": [
    "psi_initial = qt.basis(levels, 0)\n",
    "\n",
    "# psi_initial"
   ]
  },
  {
   "cell_type": "code",
   "execution_count": null,
   "id": "7a03cbc9",
   "metadata": {},
   "outputs": [],
   "source": [
    "projectors = []\n",
    "\n",
    "for i in range(levels):\n",
    "    proj = qt.basis(levels, i) * qt.basis(levels, i).dag()\n",
    "    projectors.append(proj)\n",
    "\n",
    "# projectors"
   ]
  },
  {
   "cell_type": "markdown",
   "id": "5521a66a",
   "metadata": {},
   "source": [
    "Time range defined"
   ]
  },
  {
   "cell_type": "code",
   "execution_count": null,
   "id": "36b5bc82",
   "metadata": {},
   "outputs": [],
   "source": [
    "iterations = 10000\n",
    "\n",
    "times = np.linspace(0, 1000, iterations)\n",
    "\n",
    "options = qt.Options(nsteps=1000000, store_states=True)\n",
    "\n",
    "result_levels = qt.mesolve(\n",
    "    H, psi_initial, times, [],\n",
    "    projectors,\n",
    "    args=args, options=options\n",
    ")\n",
    "\n",
    "# result_levels"
   ]
  },
  {
   "cell_type": "code",
   "execution_count": null,
   "id": "b7d25fd2",
   "metadata": {},
   "outputs": [],
   "source": [
    "for i in range(levels):\n",
    "    plt.plot(times, result_levels.expect[i], label=f'Population |{i}>')\n",
    "\n",
    "plt.xlabel('Time')\n",
    "plt.ylabel('Population')\n",
    "plt.title('Time Evolution of Level Populations for X Gate')\n",
    "plt.legend(loc='center left', bbox_to_anchor=(1, 0.5))\n",
    "plt.tight_layout()  \n",
    "plt.show()"
   ]
  },
  {
   "cell_type": "code",
   "execution_count": null,
   "id": "85c0380b",
   "metadata": {},
   "outputs": [],
   "source": [
    "rabi_freq = A * abs(n_op_energy_basis[0, 1])\n",
    "\n",
    "tx = np.pi / rabi_freq\n",
    "\n",
    "# tx"
   ]
  },
  {
   "cell_type": "code",
   "execution_count": null,
   "id": "c365266a",
   "metadata": {},
   "outputs": [],
   "source": [
    "x_test_times = np.linspace(0, tx, 1000) \n",
    "\n",
    "result_levels_x_time = qt.mesolve(\n",
    "    H, psi_initial, x_test_times, [],\n",
    "    projectors,\n",
    "    args=args, options=options\n",
    ")\n",
    "\n",
    "for i in range(levels):\n",
    "    plt.plot(x_test_times, result_levels_x_time.expect[i], label=f'Population |{i}>')\n",
    "\n",
    "plt.xlabel('Time')\n",
    "plt.ylabel('Population')\n",
    "\n",
    "plt.legend(loc='center left', bbox_to_anchor=(1, 0.5))\n",
    "plt.tight_layout()  \n",
    "plt.show()"
   ]
  },
  {
   "cell_type": "markdown",
   "id": "05506bfe",
   "metadata": {},
   "source": [
    "# Part 2: Fidelity"
   ]
  },
  {
   "cell_type": "code",
   "execution_count": null,
   "id": "a82160b8",
   "metadata": {},
   "outputs": [],
   "source": [
    "X_ideal = qt.sigmax()\n",
    "\n",
    "X_ideal"
   ]
  },
  {
   "cell_type": "code",
   "execution_count": null,
   "id": "8f884534",
   "metadata": {},
   "outputs": [],
   "source": [
    "# example propagator for time tx\n",
    "\n",
    "U = qt.propagator(H, tx, args=args, options=options)\n",
    "\n",
    "U"
   ]
  },
  {
   "cell_type": "code",
   "execution_count": null,
   "id": "396d4f25",
   "metadata": {},
   "outputs": [],
   "source": [
    "options = qt.Options(nsteps=1000000, store_states=True, atol=1e-12, rtol=1e-11)\n",
    "\n",
    "print(\"Calculating propagators...\")\n",
    "P_list = qt.propagator(H, times, args=args, options=options)\n",
    "\n",
    "fid_times = []\n",
    "fid_values = []\n",
    "for i, t in enumerate(tqdm(times, desc='Calculating fidelity')):\n",
    "    U_t = P_list[i]\n",
    "    U_2lvl = qt.Qobj(U_t.full()[:2, :2])\n",
    "    fid = qt.average_gate_fidelity(U_2lvl, X_ideal)\n",
    "    \n",
    "    fid_times.append(t)\n",
    "    fid_values.append(fid)\n",
    "\n",
    "plt.plot(np.array(fid_times), np.array(fid_values))\n",
    "plt.xlabel('Time')\n",
    "plt.ylabel('Average Gate Fidelity')\n",
    "plt.title('Average Gate Fidelity vs Time')\n",
    "plt.show()"
   ]
  },
  {
   "cell_type": "code",
   "execution_count": null,
   "id": "3e2f6259",
   "metadata": {},
   "outputs": [],
   "source": [
    "peak_fidelity = np.max(fid_values)\n",
    "print(\"Peak average gate fidelity:\", peak_fidelity)\n",
    "\n",
    "peak_index = np.argmax(fid_values)\n",
    "peak_time = times[peak_index]\n",
    "print(\"Time at peak fidelity:\", peak_time)\n",
    "\n",
    "tx = peak_time"
   ]
  },
  {
   "cell_type": "markdown",
   "id": "2b8a726b",
   "metadata": {},
   "source": [
    "# Part 3: Factoring in Noise"
   ]
  },
  {
   "cell_type": "code",
   "execution_count": null,
   "id": "bfb07a4e",
   "metadata": {},
   "outputs": [],
   "source": [
    "gamma_ij = {}\n",
    "for j in range(1, levels):\n",
    "    for i in range(j):\n",
    "        t1 = fluxonium.t1_capacitive(j, i, Q_cap=1e5)\n",
    "        if t1 is not None and t1 > 0:\n",
    "            rate = 1.0 / t1\n",
    "            gamma_ij[(i, j)] = rate\n",
    "            gamma_ij[(j, i)] = rate  \n",
    "gamma_ij"
   ]
  },
  {
   "cell_type": "code",
   "execution_count": null,
   "id": "c291f7ca",
   "metadata": {},
   "outputs": [],
   "source": [
    "c_ops = []\n",
    "for (i, j), gamma in gamma_ij.items():\n",
    "    # |i><j| operator\n",
    "    cop = (np.sqrt(gamma)) * qt.basis(levels, i) * qt.basis(levels, j).dag()\n",
    "    c_ops.append(cop)\n",
    "\n",
    "# c_ops"
   ]
  },
  {
   "cell_type": "markdown",
   "id": "ca3cb53d",
   "metadata": {},
   "source": [
    "## Propagators"
   ]
  },
  {
   "cell_type": "code",
   "execution_count": null,
   "id": "3c15822b",
   "metadata": {},
   "outputs": [],
   "source": [
    "# times = np.linspace(0, 1000, iterations)\n",
    "\n",
    "print(\"Calculating propagators...\")\n",
    "P_list = qt.propagator(H, times, c_ops=c_ops, args=args, options=options)"
   ]
  },
  {
   "cell_type": "code",
   "execution_count": null,
   "id": "9b039c0d",
   "metadata": {},
   "outputs": [],
   "source": [
    "p_unitary = []\n",
    "\n",
    "for i in range (len(P_list)):\n",
    "\n",
    "    p_special = P_list[i]\n",
    "\n",
    "    P_kraus_special = qt.to_kraus(p_special)\n",
    "\n",
    "    p_special_2x2 = [qt.Qobj(k.full()[:2, :2]) for k in P_kraus_special]\n",
    "\n",
    "    p_special_2x2_super = qt.kraus_to_super(p_special_2x2)\n",
    "\n",
    "    p_unitary.append(p_special_2x2_super)"
   ]
  },
  {
   "cell_type": "code",
   "execution_count": null,
   "id": "42ac330a",
   "metadata": {},
   "outputs": [],
   "source": [
    "fid_times = []\n",
    "fid_values = []\n",
    "\n",
    "for i, t in enumerate(tqdm(times, desc='Calculating fidelity')):\n",
    "    # U_t = P_list[i]\n",
    "\n",
    "    #testing\n",
    "    fid = qt.average_gate_fidelity(p_unitary[i], X_ideal)\n",
    "    \n",
    "    fid_times.append(t)\n",
    "    fid_values.append(fid)\n",
    "\n",
    "plt.plot(np.array(fid_times), np.array(fid_values))\n",
    "plt.xlabel('Time')\n",
    "plt.ylabel('Average Gate Fidelity')\n",
    "plt.title('Average Gate Fidelity vs Time')\n",
    "plt.show()"
   ]
  },
  {
   "cell_type": "code",
   "execution_count": null,
   "id": "1ed8b4d6",
   "metadata": {},
   "outputs": [],
   "source": [
    "peak_fidelity_noise = np.max(fid_values)\n",
    "print(\"Peak average gate fidelity:\", peak_fidelity_noise)\n",
    "\n",
    "peak_index_noise = np.argmax(fid_values)\n",
    "peak_time_noise = times[peak_index_noise]\n",
    "print(\"Time at peak fidelity:\", peak_time_noise) #should be a bit different than the peak time without noise"
   ]
  },
  {
   "cell_type": "markdown",
   "id": "7ea740c7",
   "metadata": {},
   "source": [
    "# Part 4: Optimization (Serial)"
   ]
  },
  {
   "cell_type": "code",
   "execution_count": null,
   "id": "7431425a",
   "metadata": {},
   "outputs": [],
   "source": [
    "print(\"Drive frequency (GHz):\", omega_d)"
   ]
  },
  {
   "cell_type": "code",
   "execution_count": null,
   "id": "902e223e",
   "metadata": {},
   "outputs": [],
   "source": [
    "omega_d_array = np.linspace(0.8 * omega_d, 1.2 * omega_d, 4) #note that the 4 can be changed to increase the number of points\n",
    "\n",
    "omega_d_array"
   ]
  },
  {
   "cell_type": "code",
   "execution_count": null,
   "id": "3be7a685",
   "metadata": {},
   "outputs": [],
   "source": [
    "print(\"Peak time\", peak_time)\n",
    "\n",
    "print(\"Peak time with noise\", peak_time_noise)\n",
    "\n",
    "t_g_array = np.linspace(0.8 * peak_time_noise, 1.2 * peak_time_noise, 4)\n",
    "\n",
    "t_g_array"
   ]
  },
  {
   "cell_type": "code",
   "execution_count": null,
   "id": "aeb6ae75",
   "metadata": {},
   "outputs": [],
   "source": [
    "param_pairs = list(itertools.product(omega_d_array, t_g_array))\n",
    "\n",
    "# param_pairs"
   ]
  },
  {
   "cell_type": "code",
   "execution_count": null,
   "id": "fdb76d42",
   "metadata": {},
   "outputs": [],
   "source": [
    "# special function definitions\n",
    "\n",
    "from import_functions import param_map, parallel_map_qutip, evolve, evolve_wrapped"
   ]
  },
  {
   "cell_type": "code",
   "execution_count": null,
   "id": "b5828cab",
   "metadata": {},
   "outputs": [],
   "source": [
    "try:\n",
    "    # pathos implementation is much more robust - should install if not present\n",
    "    import pathos.multiprocessing as mp\n",
    "except ImportError:\n",
    "    # but default to std library version\n",
    "    print(\n",
    "        \"using std lib version of multiprocessing; consider installing pathos; it's much more robust\"\n",
    "    )\n",
    "    import multiprocessing as mp"
   ]
  },
  {
   "cell_type": "code",
   "execution_count": null,
   "id": "1dc99d3c",
   "metadata": {},
   "outputs": [],
   "source": [
    "param_pairs = list(itertools.product(omega_d_array, t_g_array))\n",
    "\n",
    "results_flat = parallel_map_qutip_cleaned(evolve_wrapped, param_pairs, num_cpus=4)\n",
    "results = np.reshape(results_flat, (len(omega_d_array), len(t_g_array)))\n"
   ]
  },
  {
   "cell_type": "code",
   "execution_count": null,
   "id": "a9ad0c3f",
   "metadata": {},
   "outputs": [],
   "source": [
    "# print the results with the command below if desired\n",
    "\n",
    "# results"
   ]
  },
  {
   "cell_type": "code",
   "execution_count": null,
   "id": "0899faed",
   "metadata": {},
   "outputs": [],
   "source": [
    "# Find the indices of the maximum fidelity in the results array\n",
    "max_idx = np.unravel_index(np.argmax(results), results.shape)\n",
    "max_value = results[max_idx]\n",
    "omega_d_best = omega_d_array[max_idx[0]]\n",
    "t_g_best = t_g_array[max_idx[1]]\n",
    "\n",
    "print(f\"Best fidelity: {max_value}\")\n",
    "print(f\"Found at omega_d = {omega_d_best}, t_g = {t_g_best}\")\n",
    "print(f\"Indices in results array: {max_idx}\")"
   ]
  },
  {
   "cell_type": "markdown",
   "id": "972a2580",
   "metadata": {},
   "source": [
    "# Part 5: Optimization (Parallel)"
   ]
  },
  {
   "cell_type": "code",
   "execution_count": null,
   "id": "083a94fa",
   "metadata": {},
   "outputs": [],
   "source": [
    "# Job initialization\n",
    "\n",
    "evals, _ = fluxonium.eigensys(evals_count=levels)\n",
    "omega_d_base = (evals[1] - evals[0]) * 2 * np.pi #in case not run in cell above\n",
    "\n",
    "print(\"omega d is\", omega_d_base)\n",
    "\n",
    "# can modify the dimensions to increase/decrease the number of points in the sweep\n",
    "dimensions_omega = 8\n",
    "dimensions_time = 7\n",
    "\n",
    "\n",
    "# note that the ranges can be modified to sweep a larger or smaller range\n",
    "# the only reason these numbers are displayed is to exhibit the exact ranges\n",
    "# used in the poster\n",
    "omega_d_array = np.linspace(omega_d_base - 0.01, omega_d_base + 0.01, dimensions_omega)\n",
    "\n",
    "t_g_array = np.linspace(24.2, 24.6, dimensions_time)\n",
    "# param_pairs = list(itertools.product(omega_d_array, t_g_array))\n",
    "\n",
    "# print(f\"Total simulations to run: {len(param_pairs)}\")\n",
    "\n",
    "warnings.filterwarnings(\n",
    "    \"ignore\",\n",
    "    module=\"qutip.*\"  # Regex pattern to match all warnings from qutip\n",
    ")\n",
    "scq.settings.T1_DEFAULT_WARNING=False"
   ]
  },
  {
   "cell_type": "code",
   "execution_count": null,
   "id": "0ddcf0ef",
   "metadata": {},
   "outputs": [],
   "source": [
    "fidelity_results = param_map(evolve, [omega_d_array, t_g_array], map_fun=parallel_map_qutip)"
   ]
  },
  {
   "cell_type": "code",
   "execution_count": null,
   "id": "39877458",
   "metadata": {},
   "outputs": [],
   "source": [
    "# printing convenience\n",
    "\n",
    "print(\"t g array is \", t_g_array)\n",
    "print(\"omega d array is \", omega_d_array)\n",
    "print(\"Omega by time dimensions are \", dimensions_omega, \" by \", dimensions_time)\n",
    "print(\"fidelity results are \", fidelity_results)"
   ]
  },
  {
   "cell_type": "markdown",
   "id": "c6971114",
   "metadata": {},
   "source": [
    "## Heat Map plotting"
   ]
  },
  {
   "cell_type": "code",
   "execution_count": null,
   "id": "ceb1986f",
   "metadata": {},
   "outputs": [],
   "source": [
    "from import_functions import density\n",
    "\n",
    "fidelity_results = np.asarray(fidelity_results,dtype = float)\n",
    "\n",
    "density(fidelity_results, omega_d_array, t_g_array)"
   ]
  }
 ],
 "metadata": {
  "kernelspec": {
   "display_name": "base",
   "language": "python",
   "name": "python3"
  },
  "language_info": {
   "name": "python",
   "version": "3.12.7"
  }
 },
 "nbformat": 4,
 "nbformat_minor": 5
}
